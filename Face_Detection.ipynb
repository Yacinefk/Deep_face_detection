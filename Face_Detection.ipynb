{
 "cells": [
  {
   "cell_type": "markdown",
   "id": "4ebe0a33",
   "metadata": {},
   "source": [
    "#  --------------------------------------Deep Face Detection------------------------------------------"
   ]
  },
  {
   "cell_type": "markdown",
   "id": "a5659f25",
   "metadata": {},
   "source": [
    "# Part one: Preprocessing"
   ]
  },
  {
   "cell_type": "markdown",
   "id": "ad64755c",
   "metadata": {},
   "source": [
    "### **1** Install & Import Dependencies"
   ]
  },
  {
   "cell_type": "code",
   "execution_count": null,
   "id": "3c448948",
   "metadata": {},
   "outputs": [],
   "source": [
    "!pip install opencv-python albumentations labelme"
   ]
  },
  {
   "cell_type": "code",
   "execution_count": 18,
   "id": "28cf83bc",
   "metadata": {},
   "outputs": [],
   "source": [
    "import os\n",
    "import time\n",
    "import uuid\n",
    "import cv2"
   ]
  },
  {
   "cell_type": "markdown",
   "id": "1e817b93",
   "metadata": {},
   "source": [
    "### 2 Image Collection with OpenCV"
   ]
  },
  {
   "cell_type": "code",
   "execution_count": 11,
   "id": "c3f910d1",
   "metadata": {},
   "outputs": [],
   "source": [
    "IMAGES_PATH = os.path.join('data', 'images')\n",
    "number_images = 33"
   ]
  },
  {
   "cell_type": "code",
   "execution_count": 17,
   "id": "11af8e05",
   "metadata": {},
   "outputs": [
    {
     "name": "stdout",
     "output_type": "stream",
     "text": [
      "Collecting image 0\n",
      "Collecting image 1\n",
      "Collecting image 2\n",
      "Collecting image 3\n",
      "Collecting image 4\n",
      "Collecting image 5\n",
      "Collecting image 6\n",
      "Collecting image 7\n",
      "Collecting image 8\n",
      "Collecting image 9\n",
      "Collecting image 10\n",
      "Collecting image 11\n",
      "Collecting image 12\n",
      "Collecting image 13\n",
      "Collecting image 14\n",
      "Collecting image 15\n",
      "Collecting image 16\n",
      "Collecting image 17\n",
      "Collecting image 18\n",
      "Collecting image 19\n",
      "Collecting image 20\n",
      "Collecting image 21\n",
      "Collecting image 22\n",
      "Collecting image 23\n",
      "Collecting image 24\n",
      "Collecting image 25\n",
      "Collecting image 26\n",
      "Collecting image 27\n",
      "Collecting image 28\n",
      "Collecting image 29\n",
      "Collecting image 30\n",
      "Collecting image 31\n",
      "Collecting image 32\n"
     ]
    }
   ],
   "source": [
    "cap = cv2.VideoCapture(0)\n",
    "for imgnum in range(number_images):\n",
    "    print('Collecting image {}'.format(imgnum))\n",
    "    ret, frame = cap.read()\n",
    "    imgname = os.path.join(IMAGES_PATH, f'{str(uuid.uuid1())}.jpg')\n",
    "    cv2.imwrite(imgname,frame)\n",
    "    cv2.imshow('frame',frame)\n",
    "    time.sleep(0.5)\n",
    "    \n",
    "    if cv2.waitKey(1) & 0xFF ==ord('q'):\n",
    "        break\n",
    "        \n",
    "cap.release()\n",
    "cv2.destroyAllWindows()"
   ]
  },
  {
   "cell_type": "markdown",
   "id": "84d698c4",
   "metadata": {},
   "source": [
    "### 3 Annotate Images with LabelMe"
   ]
  },
  {
   "cell_type": "code",
   "execution_count": 19,
   "id": "f6675204",
   "metadata": {},
   "outputs": [
    {
     "name": "stderr",
     "output_type": "stream",
     "text": [
      "[INFO   ] __init__:get_config:70 - Loading config file from: C:\\Users\\e182001\\.labelmerc\n"
     ]
    }
   ],
   "source": [
    "!labelme"
   ]
  },
  {
   "cell_type": "markdown",
   "id": "3c50913c",
   "metadata": {},
   "source": [
    "### 4 Image loading function"
   ]
  },
  {
   "cell_type": "markdown",
   "id": "28529613",
   "metadata": {},
   "source": [
    "* Import dependencies"
   ]
  },
  {
   "cell_type": "code",
   "execution_count": 20,
   "id": "ba211cc8",
   "metadata": {},
   "outputs": [],
   "source": [
    "import tensorflow as tf\n",
    "import json\n",
    "import numpy as np\n",
    "import matplotlib.pyplot as plt"
   ]
  },
  {
   "cell_type": "markdown",
   "id": "60c6b83a",
   "metadata": {},
   "source": [
    "* Load image into TF Data Pipeline"
   ]
  },
  {
   "cell_type": "code",
   "execution_count": 45,
   "id": "d8359f30",
   "metadata": {},
   "outputs": [],
   "source": [
    "images = tf.data.Dataset.list_files('data\\\\images\\\\*.jpg', shuffle=True)"
   ]
  },
  {
   "cell_type": "code",
   "execution_count": 46,
   "id": "3538ae44",
   "metadata": {},
   "outputs": [
    {
     "data": {
      "text/plain": [
       "b'data\\\\images\\\\914ee239-3ae6-11ed-afe7-f4b301d62f1c.jpg'"
      ]
     },
     "execution_count": 46,
     "metadata": {},
     "output_type": "execute_result"
    }
   ],
   "source": [
    "images.as_numpy_iterator().next()"
   ]
  },
  {
   "cell_type": "code",
   "execution_count": 47,
   "id": "4197012f",
   "metadata": {},
   "outputs": [],
   "source": [
    "def load_image(x):\n",
    "    byte_img = tf.io.read_file(x)\n",
    "    img = tf.io.decode_jpeg(byte_img)\n",
    "    return img"
   ]
  },
  {
   "cell_type": "code",
   "execution_count": 48,
   "id": "6122cbd8",
   "metadata": {},
   "outputs": [],
   "source": [
    "images = images.map(load_image)"
   ]
  },
  {
   "cell_type": "code",
   "execution_count": 49,
   "id": "50f9d361",
   "metadata": {},
   "outputs": [
    {
     "data": {
      "text/plain": [
       "array([[[102, 100,  87],\n",
       "        [ 97,  95,  82],\n",
       "        [ 93,  90,  75],\n",
       "        ...,\n",
       "        [151, 148, 139],\n",
       "        [148, 148, 136],\n",
       "        [146, 146, 134]],\n",
       "\n",
       "       [[100,  96,  84],\n",
       "        [ 99,  96,  81],\n",
       "        [ 99,  96,  81],\n",
       "        ...,\n",
       "        [149, 146, 137],\n",
       "        [148, 146, 134],\n",
       "        [144, 144, 132]],\n",
       "\n",
       "       [[100,  94,  80],\n",
       "        [102,  96,  82],\n",
       "        [104,  98,  84],\n",
       "        ...,\n",
       "        [149, 146, 137],\n",
       "        [149, 146, 137],\n",
       "        [148, 145, 136]],\n",
       "\n",
       "       ...,\n",
       "\n",
       "       [[  5,  10,   6],\n",
       "        [  6,  11,   7],\n",
       "        [  6,  11,   7],\n",
       "        ...,\n",
       "        [210, 215, 209],\n",
       "        [210, 215, 209],\n",
       "        [210, 215, 209]],\n",
       "\n",
       "       [[  5,  10,   6],\n",
       "        [  6,  11,   7],\n",
       "        [  7,  12,   8],\n",
       "        ...,\n",
       "        [209, 214, 208],\n",
       "        [209, 214, 208],\n",
       "        [209, 214, 208]],\n",
       "\n",
       "       [[  5,  10,   6],\n",
       "        [  6,  11,   7],\n",
       "        [  8,  13,   9],\n",
       "        ...,\n",
       "        [208, 213, 207],\n",
       "        [208, 213, 207],\n",
       "        [209, 214, 208]]], dtype=uint8)"
      ]
     },
     "execution_count": 49,
     "metadata": {},
     "output_type": "execute_result"
    }
   ],
   "source": [
    "images.as_numpy_iterator().next()"
   ]
  },
  {
   "cell_type": "code",
   "execution_count": 50,
   "id": "4763a5e7",
   "metadata": {},
   "outputs": [
    {
     "data": {
      "text/plain": [
       "tensorflow.python.data.ops.dataset_ops.MapDataset"
      ]
     },
     "execution_count": 50,
     "metadata": {},
     "output_type": "execute_result"
    }
   ],
   "source": [
    "type(images)"
   ]
  },
  {
   "cell_type": "markdown",
   "id": "e415ce5a",
   "metadata": {},
   "source": [
    "View Raw Images with Matplotlib"
   ]
  },
  {
   "cell_type": "code",
   "execution_count": 59,
   "id": "eed73dcb",
   "metadata": {},
   "outputs": [],
   "source": [
    "image_generator=images.batch(5).as_numpy_iterator()"
   ]
  },
  {
   "cell_type": "code",
   "execution_count": 60,
   "id": "f30d4cd4",
   "metadata": {},
   "outputs": [],
   "source": [
    "plot_images = image_generator.next()"
   ]
  },
  {
   "cell_type": "code",
   "execution_count": null,
   "id": "42ddbd41",
   "metadata": {},
   "outputs": [],
   "source": [
    "fig, ax = plt.subplots(ncols=5, figsize=(15,15))\n",
    "for idx,image in enumerate(plot_images):\n",
    "    ax[idx].imshow(image)\n",
    "plt.show()    "
   ]
  },
  {
   "cell_type": "markdown",
   "id": "c7dc0ae8",
   "metadata": {},
   "source": [
    "* Create three folders train, test, val\n",
    "* create in each one of them two folders named images and labels\n",
    "* move the images manually by giving 70%, 20%, 10% to train, test, val accordingly"
   ]
  },
  {
   "cell_type": "markdown",
   "id": "f96df61c",
   "metadata": {},
   "source": [
    "### 5. Partition Unaugmented Data"
   ]
  },
  {
   "cell_type": "markdown",
   "id": "e2b657a1",
   "metadata": {},
   "source": [
    "* Move the Matching labels"
   ]
  },
  {
   "cell_type": "code",
   "execution_count": 62,
   "id": "d3274378",
   "metadata": {},
   "outputs": [],
   "source": [
    "for folder in ['train','test','val']:\n",
    "    for file in os.listdir(os.path.join('data', folder, 'images')):\n",
    "        \n",
    "        filename = file.split('.')[0]+'.json'\n",
    "        existing_filepath = os.path.join('data', 'labels',filename)\n",
    "        if os.path.exists(existing_filepath):\n",
    "            new_filepath = os.path.join('data',folder, 'labels', filename)\n",
    "            os.replace(existing_filepath, new_filepath)"
   ]
  },
  {
   "cell_type": "markdown",
   "id": "e2e72c9c",
   "metadata": {},
   "source": [
    "### 6. Apply Image Augmentation on our images and labels using ALBUMENTATIONS"
   ]
  },
  {
   "cell_type": "code",
   "execution_count": 66,
   "id": "1b676376",
   "metadata": {},
   "outputs": [],
   "source": [
    "import albumentations as alb"
   ]
  },
  {
   "cell_type": "code",
   "execution_count": 72,
   "id": "b04d4499",
   "metadata": {},
   "outputs": [],
   "source": [
    "augmentor = alb.Compose([alb.RandomCrop(width=450, height=450), \n",
    "                         alb.HorizontalFlip(p=0.5), \n",
    "                         alb.RandomBrightnessContrast(p=0.2),\n",
    "                         alb.RandomGamma(p=0.2), \n",
    "                         alb.RGBShift(p=0.2), \n",
    "                         alb.VerticalFlip(p=0.5)], \n",
    "                       bbox_params=alb.BboxParams(format='albumentations', \n",
    "                                                  label_fields=['class_labels']))"
   ]
  },
  {
   "cell_type": "code",
   "execution_count": 89,
   "id": "9c76fd9c",
   "metadata": {},
   "outputs": [],
   "source": [
    "img = cv2.imread(os.path.join('data', 'train', 'images', '500bab4f-3ae6-11ed-87db-f4b301d62f1c.jpg'))"
   ]
  },
  {
   "cell_type": "code",
   "execution_count": 90,
   "id": "d620781d",
   "metadata": {},
   "outputs": [],
   "source": [
    "with open(os.path.join('data', 'train', 'labels', '500bab4f-3ae6-11ed-87db-f4b301d62f1c.json'), 'r') as f:\n",
    "    label =json.load(f)"
   ]
  },
  {
   "cell_type": "code",
   "execution_count": 91,
   "id": "70e047ca",
   "metadata": {},
   "outputs": [
    {
     "data": {
      "text/plain": [
       "[[249.45833333333337, 105.20833333333334],\n",
       " [403.1041666666667, 316.14583333333337]]"
      ]
     },
     "execution_count": 91,
     "metadata": {},
     "output_type": "execute_result"
    }
   ],
   "source": [
    "label['shapes'][0]['points']"
   ]
  },
  {
   "cell_type": "markdown",
   "id": "4e9e03dc",
   "metadata": {},
   "source": [
    "* Extract coordinates and Rescale to Match Image Resolution"
   ]
  },
  {
   "cell_type": "code",
   "execution_count": 92,
   "id": "0e282fe6",
   "metadata": {},
   "outputs": [],
   "source": [
    "coords = [0,0,0,0]\n",
    "coords[0] = label['shapes'][0]['points'][0][0]\n",
    "coords[1] = label['shapes'][0]['points'][0][1]\n",
    "coords[2] = label['shapes'][0]['points'][1][0]\n",
    "coords[3] = label['shapes'][0]['points'][1][1]"
   ]
  },
  {
   "cell_type": "code",
   "execution_count": 93,
   "id": "9832b588",
   "metadata": {},
   "outputs": [
    {
     "data": {
      "text/plain": [
       "[249.45833333333337, 105.20833333333334, 403.1041666666667, 316.14583333333337]"
      ]
     },
     "execution_count": 93,
     "metadata": {},
     "output_type": "execute_result"
    }
   ],
   "source": [
    "coords"
   ]
  },
  {
   "cell_type": "code",
   "execution_count": 94,
   "id": "7a6d2a53",
   "metadata": {},
   "outputs": [
    {
     "data": {
      "text/plain": [
       "[0.3897786458333334,\n",
       " 0.2191840277777778,\n",
       " 0.6298502604166667,\n",
       " 0.6586371527777779]"
      ]
     },
     "execution_count": 94,
     "metadata": {},
     "output_type": "execute_result"
    }
   ],
   "source": [
    "coords = list(np.divide(coords,[640,480,640,480]))\n",
    "coords"
   ]
  },
  {
   "cell_type": "markdown",
   "id": "c7bbc6c7",
   "metadata": {},
   "source": [
    "* Apply Augmentation "
   ]
  },
  {
   "cell_type": "code",
   "execution_count": 95,
   "id": "8c3af950",
   "metadata": {},
   "outputs": [],
   "source": [
    "augmented = augmentor(image=img , bboxes=[coords],class_labels=['face'])"
   ]
  },
  {
   "cell_type": "code",
   "execution_count": 99,
   "id": "13ba1ee0",
   "metadata": {},
   "outputs": [
    {
     "data": {
      "text/plain": [
       "(0.7180092592592593, 0.6758796296296297)"
      ]
     },
     "execution_count": 99,
     "metadata": {},
     "output_type": "execute_result"
    }
   ],
   "source": [
    "augmented['bboxes'][0][2:]"
   ]
  },
  {
   "cell_type": "markdown",
   "id": "a65c99a4",
   "metadata": {},
   "source": []
  },
  {
   "cell_type": "code",
   "execution_count": null,
   "id": "66929c98",
   "metadata": {},
   "outputs": [],
   "source": [
    "cv2.rectangle(augmented['image'], \n",
    "              tuple(np.multiply(augmented['bboxes'][0][:2], [450,450]).astype(int)),\n",
    "              tuple(np.multiply(augmented['bboxes'][0][2:], [450,450]).astype(int)), \n",
    "                    (255,0,0), 2)\n",
    "\n",
    "plt.imshow(augmented['image'])"
   ]
  },
  {
   "cell_type": "markdown",
   "id": "c8be716d",
   "metadata": {},
   "source": [
    "# Build the Augmentation Pipeline"
   ]
  },
  {
   "cell_type": "code",
   "execution_count": 104,
   "id": "6dab83a6",
   "metadata": {},
   "outputs": [
    {
     "name": "stdout",
     "output_type": "stream",
     "text": [
      "x_max is less than or equal to x_min for bbox [0.77470703125, 0.3786892361111111, 0.5704427083333334, 0.6108940972222222, 'face'].\n",
      "x_max is less than or equal to x_min for bbox [0.57451171875, 0.5457899305555556, 0.4125651041666667, 0.25390625, 'face'].\n",
      "x_max is less than or equal to x_min for bbox [0.6632161458333334, 0.2907986111111111, 0.4556966145833334, 0.5859375, 'face'].\n",
      "x_max is less than or equal to x_min for bbox [0.5671875, 0.2918836805555556, 0.3922200520833334, 0.6575520833333334, 'face'].\n",
      "x_max is less than or equal to x_min for bbox [0.5509114583333334, 0.6032986111111112, 0.371875, 0.25390625, 'face'].\n",
      "x_max is less than or equal to x_min for bbox [0.6485677083333334, 0.6282552083333334, 0.4784830729166667, 0.3483072916666667, 'face'].\n",
      "x_max is less than or equal to x_min for bbox [0.6021809895833334, 0.597873263888889, 0.4483723958333334, 0.3255208333333333, 'face'].\n",
      "x_max is less than or equal to x_min for bbox [0.8609700520833334, 0.5045572916666666, 0.6396158854166667, 0.7378472222222222, 'face'].\n",
      "x_max is less than or equal to x_min for bbox [0.6737955729166668, 0.568576388888889, 0.4744140625, 0.2593315972222222, 'face'].\n",
      "x_max is less than or equal to x_min for bbox [0.6762369791666668, 0.22026909722222224, 0.46708984375, 0.5946180555555556, 'face'].\n",
      "x_max is less than or equal to x_min for bbox [0.6567057291666667, 0.5447048611111112, 0.4556966145833334, 0.22026909722222224, 'face'].\n",
      "y_max is less than or equal to y_min for bbox [0.34013671875, 0.5436197916666666, 0.53544921875, 0.2560763888888889, 'face'].\n",
      "x_max is less than or equal to x_min for bbox [0.5541666666666667, 0.5457899305555556, 0.3971028645833334, 0.3059895833333333, 'face'].\n",
      "x_max is less than or equal to x_min for bbox [0.6339192708333334, 0.2647569444444445, 0.4532552083333334, 0.5609809027777779, 'face'].\n",
      "x_max is less than or equal to x_min for bbox [0.54033203125, 0.5642361111111112, 0.3279296875, 0.29513888888888895, 'face'].\n"
     ]
    }
   ],
   "source": [
    "for partition in ['train','test','val']: \n",
    "    for image in os.listdir(os.path.join('data', partition, 'images')):\n",
    "        img = cv2.imread(os.path.join('data', partition, 'images', image))\n",
    "\n",
    "        coords = [0,0,0.00001,0.00001]\n",
    "        label_path = os.path.join('data', partition, 'labels', f'{image.split(\".\")[0]}.json')\n",
    "        if os.path.exists(label_path):\n",
    "            with open(label_path, 'r') as f:\n",
    "                label = json.load(f)\n",
    "\n",
    "            coords[0] = label['shapes'][0]['points'][0][0]\n",
    "            coords[1] = label['shapes'][0]['points'][0][1]\n",
    "            coords[2] = label['shapes'][0]['points'][1][0]\n",
    "            coords[3] = label['shapes'][0]['points'][1][1]\n",
    "            coords = list(np.divide(coords, [640,480,640,480]))\n",
    "\n",
    "        try: \n",
    "            for x in range(20):\n",
    "                augmented = augmentor(image=img, bboxes=[coords], class_labels=['face'])\n",
    "                cv2.imwrite(os.path.join('aug_data', partition, 'images', f'{image.split(\".\")[0]}.{x}.jpg'), augmented['image'])\n",
    "\n",
    "                annotation = {}\n",
    "                annotation['image'] = image\n",
    "\n",
    "                if os.path.exists(label_path):\n",
    "                    if len(augmented['bboxes']) == 0: \n",
    "                        annotation['bbox'] = [0,0,0,0]\n",
    "                        annotation['class'] = 0 \n",
    "                    else:\n",
    "                        annotation['bbox'] = augmented['bboxes'][0]\n",
    "                        annotation['class'] = 1\n",
    "                else: \n",
    "                    annotation['bbox'] = [0,0,0,0]\n",
    "                    annotation['class'] = 0 \n",
    "\n",
    "\n",
    "                with open(os.path.join('aug_data', partition, 'labels', f'{image.split(\".\")[0]}.{x}.json'), 'w') as f:\n",
    "                    json.dump(annotation, f)\n",
    "\n",
    "        except Exception as e:\n",
    "            print(e)"
   ]
  },
  {
   "cell_type": "markdown",
   "id": "2b69dd99",
   "metadata": {},
   "source": [
    "* Load Aumented images to Tensorflow Dataset"
   ]
  },
  {
   "cell_type": "code",
   "execution_count": 120,
   "id": "fcd43ec3",
   "metadata": {},
   "outputs": [],
   "source": [
    "train_images = tf.data.Dataset.list_files('aug_data\\\\train\\\\images\\\\*.jpg', shuffle=False)\n",
    "train_images = train_images.map(load_image)\n",
    "train_images = train_images.map(lambda x: tf.image.resize(x, (120,120)))\n",
    "train_images = train_images.map(lambda x: x/255)"
   ]
  },
  {
   "cell_type": "code",
   "execution_count": 121,
   "id": "4c5e026f",
   "metadata": {},
   "outputs": [],
   "source": [
    "test_images = tf.data.Dataset.list_files('aug_data\\\\test\\\\images\\\\*.jpg', shuffle=False)\n",
    "test_images = test_images.map(load_image)\n",
    "test_images = test_images.map(lambda x: tf.image.resize(x, (120,120)))\n",
    "test_images = test_images.map(lambda x: x/255)"
   ]
  },
  {
   "cell_type": "code",
   "execution_count": 122,
   "id": "225cd7e9",
   "metadata": {},
   "outputs": [],
   "source": [
    "val_images = tf.data.Dataset.list_files('aug_data\\\\val\\\\images\\\\*.jpg', shuffle=False)\n",
    "val_images = val_images.map(load_image)\n",
    "val_images = val_images.map(lambda x: tf.image.resize(x, (120,120)))\n",
    "val_images = val_images.map(lambda x: x/255)"
   ]
  },
  {
   "cell_type": "markdown",
   "id": "2535246e",
   "metadata": {},
   "source": [
    "# Build labels loading function"
   ]
  },
  {
   "cell_type": "code",
   "execution_count": 123,
   "id": "b2ff1044",
   "metadata": {},
   "outputs": [],
   "source": [
    "def load_labels(label_path):\n",
    "    with open(label_path.numpy(), 'r', encoding='utf-8') as f:\n",
    "        label = json.load(f)\n",
    "        \n",
    "    return [label['class']], label['bbox']"
   ]
  },
  {
   "cell_type": "markdown",
   "id": "d7405a95",
   "metadata": {},
   "source": [
    "* Load our labels to Tensorflow Dataset"
   ]
  },
  {
   "cell_type": "code",
   "execution_count": 127,
   "id": "715a8e3e",
   "metadata": {},
   "outputs": [],
   "source": [
    "train_labels = tf.data.Dataset.list_files('aug_data\\\\train\\\\labels\\\\*.json', shuffle=False)\n",
    "train_labels = train_labels.map(lambda x: tf.py_function(load_labels, [x], [tf.uint8, tf.float16]))"
   ]
  },
  {
   "cell_type": "code",
   "execution_count": 128,
   "id": "5223ae1c",
   "metadata": {},
   "outputs": [],
   "source": [
    "test_labels = tf.data.Dataset.list_files('aug_data\\\\test\\\\labels\\\\*.json', shuffle=False)\n",
    "test_labels = test_labels.map(lambda x: tf.py_function(load_labels, [x], [tf.uint8, tf.float16]))"
   ]
  },
  {
   "cell_type": "code",
   "execution_count": 129,
   "id": "4cc28d2b",
   "metadata": {},
   "outputs": [],
   "source": [
    "val_labels = tf.data.Dataset.list_files('aug_data\\\\val\\\\labels\\\\*.json', shuffle=False)\n",
    "val_labels = val_labels.map(lambda x: tf.py_function(load_labels, [x], [tf.uint8, tf.float16]))"
   ]
  },
  {
   "cell_type": "markdown",
   "id": "6157df94",
   "metadata": {},
   "source": [
    "### Combine label and Image samples"
   ]
  },
  {
   "cell_type": "markdown",
   "id": "50fa9b5f",
   "metadata": {},
   "source": [
    "* Check the length of our partition"
   ]
  },
  {
   "cell_type": "code",
   "execution_count": 132,
   "id": "3958ff10",
   "metadata": {},
   "outputs": [
    {
     "data": {
      "text/plain": [
       "(1180, 1180, 340, 340, 160, 160)"
      ]
     },
     "execution_count": 132,
     "metadata": {},
     "output_type": "execute_result"
    }
   ],
   "source": [
    "len(train_images), len(train_labels), len(test_images), len(test_labels),len(val_images),len(val_labels)"
   ]
  },
  {
   "cell_type": "markdown",
   "id": "578f457a",
   "metadata": {},
   "source": [
    "### Create final dataset(Images/Labels)"
   ]
  },
  {
   "cell_type": "code",
   "execution_count": 137,
   "id": "d3a10cf4",
   "metadata": {},
   "outputs": [],
   "source": [
    "train = tf.data.Dataset.zip((train_images, train_labels))\n",
    "train = train.shuffle(1600)\n",
    "train = train.batch(8)\n",
    "train = train.prefetch(4)"
   ]
  },
  {
   "cell_type": "code",
   "execution_count": 138,
   "id": "93f1e241",
   "metadata": {},
   "outputs": [],
   "source": [
    "test = tf.data.Dataset.zip((test_images,test_labels))\n",
    "test = test.shuffle(460)\n",
    "test = test.batch(8)\n",
    "test = test.prefetch(4)"
   ]
  },
  {
   "cell_type": "code",
   "execution_count": 139,
   "id": "56149dd2",
   "metadata": {},
   "outputs": [],
   "source": [
    "val = tf.data.Dataset.zip((val_images,val_labels))\n",
    "val = val.shuffle(220)\n",
    "val = val.batch(8)\n",
    "val = val.prefetch(4)"
   ]
  },
  {
   "cell_type": "markdown",
   "id": "21deef1b",
   "metadata": {},
   "source": [
    "### Plot View Images and Annotations"
   ]
  },
  {
   "cell_type": "code",
   "execution_count": 169,
   "id": "cc5d709a",
   "metadata": {},
   "outputs": [],
   "source": [
    "data_samples = train.as_numpy_iterator()"
   ]
  },
  {
   "cell_type": "code",
   "execution_count": 180,
   "id": "f394d299",
   "metadata": {},
   "outputs": [],
   "source": [
    "res = data_samples.next()"
   ]
  },
  {
   "cell_type": "code",
   "execution_count": null,
   "id": "640c6864",
   "metadata": {},
   "outputs": [],
   "source": [
    "fig, ax = plt.subplots(ncols=4, figsize=(17,17))\n",
    "for idx in range(4): \n",
    "    sample_image = res[0][idx]\n",
    "    sample_coords = res[1][1][idx]\n",
    "    \n",
    "    cv2.rectangle(sample_image, \n",
    "                  tuple(np.multiply(sample_coords[:2], [120,120]).astype(int)),\n",
    "                  tuple(np.multiply(sample_coords[2:], [120,120]).astype(int)), \n",
    "                        (255,0,0), 2)\n",
    "\n",
    "    ax[idx].imshow(sample_image)"
   ]
  },
  {
   "cell_type": "markdown",
   "id": "f0a2dfc5",
   "metadata": {},
   "source": [
    "# Part Two: Build Deep Learning using the Functional API"
   ]
  },
  {
   "cell_type": "markdown",
   "id": "4ea17322",
   "metadata": {},
   "source": [
    "* I mport layers and Base Network"
   ]
  },
  {
   "cell_type": "code",
   "execution_count": 184,
   "id": "f8e21aea",
   "metadata": {},
   "outputs": [],
   "source": [
    "from tensorflow.keras.models import Model\n",
    "from tensorflow.keras.layers import Input, Conv2D, Dense, GlobalMaxPool2D\n",
    "from tensorflow.keras.applications import VGG16"
   ]
  },
  {
   "cell_type": "markdown",
   "id": "9f7d4243",
   "metadata": {},
   "source": [
    "* Download VGG16"
   ]
  },
  {
   "cell_type": "code",
   "execution_count": 185,
   "id": "15635b8c",
   "metadata": {},
   "outputs": [
    {
     "name": "stdout",
     "output_type": "stream",
     "text": [
      "Downloading data from https://storage.googleapis.com/tensorflow/keras-applications/vgg16/vgg16_weights_tf_dim_ordering_tf_kernels_notop.h5\n",
      "58892288/58889256 [==============================] - 3s 0us/step\n",
      "58900480/58889256 [==============================] - 3s 0us/step\n"
     ]
    }
   ],
   "source": [
    "vgg = VGG16(include_top=False)"
   ]
  },
  {
   "cell_type": "code",
   "execution_count": 186,
   "id": "938e8045",
   "metadata": {},
   "outputs": [
    {
     "name": "stdout",
     "output_type": "stream",
     "text": [
      "Model: \"vgg16\"\n",
      "_________________________________________________________________\n",
      " Layer (type)                Output Shape              Param #   \n",
      "=================================================================\n",
      " input_1 (InputLayer)        [(None, None, None, 3)]   0         \n",
      "                                                                 \n",
      " block1_conv1 (Conv2D)       (None, None, None, 64)    1792      \n",
      "                                                                 \n",
      " block1_conv2 (Conv2D)       (None, None, None, 64)    36928     \n",
      "                                                                 \n",
      " block1_pool (MaxPooling2D)  (None, None, None, 64)    0         \n",
      "                                                                 \n",
      " block2_conv1 (Conv2D)       (None, None, None, 128)   73856     \n",
      "                                                                 \n",
      " block2_conv2 (Conv2D)       (None, None, None, 128)   147584    \n",
      "                                                                 \n",
      " block2_pool (MaxPooling2D)  (None, None, None, 128)   0         \n",
      "                                                                 \n",
      " block3_conv1 (Conv2D)       (None, None, None, 256)   295168    \n",
      "                                                                 \n",
      " block3_conv2 (Conv2D)       (None, None, None, 256)   590080    \n",
      "                                                                 \n",
      " block3_conv3 (Conv2D)       (None, None, None, 256)   590080    \n",
      "                                                                 \n",
      " block3_pool (MaxPooling2D)  (None, None, None, 256)   0         \n",
      "                                                                 \n",
      " block4_conv1 (Conv2D)       (None, None, None, 512)   1180160   \n",
      "                                                                 \n",
      " block4_conv2 (Conv2D)       (None, None, None, 512)   2359808   \n",
      "                                                                 \n",
      " block4_conv3 (Conv2D)       (None, None, None, 512)   2359808   \n",
      "                                                                 \n",
      " block4_pool (MaxPooling2D)  (None, None, None, 512)   0         \n",
      "                                                                 \n",
      " block5_conv1 (Conv2D)       (None, None, None, 512)   2359808   \n",
      "                                                                 \n",
      " block5_conv2 (Conv2D)       (None, None, None, 512)   2359808   \n",
      "                                                                 \n",
      " block5_conv3 (Conv2D)       (None, None, None, 512)   2359808   \n",
      "                                                                 \n",
      " block5_pool (MaxPooling2D)  (None, None, None, 512)   0         \n",
      "                                                                 \n",
      "=================================================================\n",
      "Total params: 14,714,688\n",
      "Trainable params: 14,714,688\n",
      "Non-trainable params: 0\n",
      "_________________________________________________________________\n"
     ]
    }
   ],
   "source": [
    "vgg.summary()"
   ]
  },
  {
   "cell_type": "markdown",
   "id": "1f80392e",
   "metadata": {},
   "source": [
    "* Build Instance of Network"
   ]
  },
  {
   "cell_type": "code",
   "execution_count": 187,
   "id": "a565c50a",
   "metadata": {},
   "outputs": [],
   "source": [
    "def build_model(): \n",
    "    input_layer = Input(shape=(120,120,3))\n",
    "    \n",
    "    vgg = VGG16(include_top=False)(input_layer)\n",
    "\n",
    "    # Classification Model  \n",
    "    f1 = GlobalMaxPool2D()(vgg)\n",
    "    class1 = Dense(2048, activation='relu')(f1)\n",
    "    class2 = Dense(1, activation='sigmoid')(class1)\n",
    "    \n",
    "    # Bounding box model Regression Model\n",
    "    f2 = GlobalMaxPool2D()(vgg)\n",
    "    regress1 = Dense(2048, activation='relu')(f2)\n",
    "    regress2 = Dense(4, activation='sigmoid')(regress1)\n",
    "    \n",
    "    facetracker = Model(inputs=input_layer, outputs=[class2, regress2])\n",
    "    return facetracker"
   ]
  },
  {
   "cell_type": "markdown",
   "id": "15baef12",
   "metadata": {},
   "source": [
    "* Test out our Neural Network"
   ]
  },
  {
   "cell_type": "code",
   "execution_count": 188,
   "id": "4d2d0514",
   "metadata": {},
   "outputs": [],
   "source": [
    "facetracker = build_model()"
   ]
  },
  {
   "cell_type": "code",
   "execution_count": 189,
   "id": "5577bae4",
   "metadata": {},
   "outputs": [
    {
     "name": "stdout",
     "output_type": "stream",
     "text": [
      "Model: \"model\"\n",
      "__________________________________________________________________________________________________\n",
      " Layer (type)                   Output Shape         Param #     Connected to                     \n",
      "==================================================================================================\n",
      " input_2 (InputLayer)           [(None, 120, 120, 3  0           []                               \n",
      "                                )]                                                                \n",
      "                                                                                                  \n",
      " vgg16 (Functional)             (None, None, None,   14714688    ['input_2[0][0]']                \n",
      "                                512)                                                              \n",
      "                                                                                                  \n",
      " global_max_pooling2d (GlobalMa  (None, 512)         0           ['vgg16[0][0]']                  \n",
      " xPooling2D)                                                                                      \n",
      "                                                                                                  \n",
      " global_max_pooling2d_1 (Global  (None, 512)         0           ['vgg16[0][0]']                  \n",
      " MaxPooling2D)                                                                                    \n",
      "                                                                                                  \n",
      " dense (Dense)                  (None, 2048)         1050624     ['global_max_pooling2d[0][0]']   \n",
      "                                                                                                  \n",
      " dense_2 (Dense)                (None, 2048)         1050624     ['global_max_pooling2d_1[0][0]'] \n",
      "                                                                                                  \n",
      " dense_1 (Dense)                (None, 1)            2049        ['dense[0][0]']                  \n",
      "                                                                                                  \n",
      " dense_3 (Dense)                (None, 4)            8196        ['dense_2[0][0]']                \n",
      "                                                                                                  \n",
      "==================================================================================================\n",
      "Total params: 16,826,181\n",
      "Trainable params: 16,826,181\n",
      "Non-trainable params: 0\n",
      "__________________________________________________________________________________________________\n"
     ]
    }
   ],
   "source": [
    "facetracker.summary()"
   ]
  },
  {
   "cell_type": "code",
   "execution_count": 190,
   "id": "b851733e",
   "metadata": {},
   "outputs": [],
   "source": [
    "X, y = train.as_numpy_iterator().next()"
   ]
  },
  {
   "cell_type": "code",
   "execution_count": 191,
   "id": "5e9a73e5",
   "metadata": {},
   "outputs": [
    {
     "data": {
      "text/plain": [
       "(8, 120, 120, 3)"
      ]
     },
     "execution_count": 191,
     "metadata": {},
     "output_type": "execute_result"
    }
   ],
   "source": [
    "X.shape"
   ]
  },
  {
   "cell_type": "code",
   "execution_count": 195,
   "id": "94411cfc",
   "metadata": {},
   "outputs": [],
   "source": [
    "classes, coords = facetracker.predict(X)"
   ]
  },
  {
   "cell_type": "code",
   "execution_count": 196,
   "id": "ec607b10",
   "metadata": {},
   "outputs": [
    {
     "data": {
      "text/plain": [
       "(array([[0.42177507],\n",
       "        [0.36966655],\n",
       "        [0.40765035],\n",
       "        [0.3881895 ],\n",
       "        [0.4608276 ],\n",
       "        [0.3396523 ],\n",
       "        [0.38106522],\n",
       "        [0.3941808 ]], dtype=float32),\n",
       " array([[0.3527804 , 0.44369292, 0.39719188, 0.46433482],\n",
       "        [0.37922752, 0.43018046, 0.35508928, 0.49462658],\n",
       "        [0.3875462 , 0.4814622 , 0.3258772 , 0.54887396],\n",
       "        [0.42775404, 0.5053104 , 0.38672805, 0.5451003 ],\n",
       "        [0.4249648 , 0.3884974 , 0.35695285, 0.43984786],\n",
       "        [0.35822943, 0.44530812, 0.35946977, 0.53706187],\n",
       "        [0.363257  , 0.46194187, 0.35946006, 0.5385823 ],\n",
       "        [0.44392654, 0.40046585, 0.4253921 , 0.4745366 ]], dtype=float32))"
      ]
     },
     "execution_count": 196,
     "metadata": {},
     "output_type": "execute_result"
    }
   ],
   "source": [
    "classes, coords"
   ]
  },
  {
   "cell_type": "markdown",
   "id": "bf576ef5",
   "metadata": {},
   "source": [
    "## Define Losses and Optimizers"
   ]
  },
  {
   "cell_type": "markdown",
   "id": "169293e3",
   "metadata": {},
   "source": [
    "* Define Optimizer and Learning Rate"
   ]
  },
  {
   "cell_type": "code",
   "execution_count": 197,
   "id": "3379b736",
   "metadata": {},
   "outputs": [
    {
     "data": {
      "text/plain": [
       "148"
      ]
     },
     "execution_count": 197,
     "metadata": {},
     "output_type": "execute_result"
    }
   ],
   "source": [
    "len(train)"
   ]
  },
  {
   "cell_type": "code",
   "execution_count": 199,
   "id": "71ee0ce7",
   "metadata": {},
   "outputs": [],
   "source": [
    "# Define Learning rate decay\n",
    "batches_per_epoch = len(train)\n",
    "lr = (1./0.75 -1)/batches_per_epoch # learning rate"
   ]
  },
  {
   "cell_type": "code",
   "execution_count": 200,
   "id": "ee7131a0",
   "metadata": {},
   "outputs": [],
   "source": [
    "# Define Optimizer\n",
    "opt = tf.keras.optimizers.Adam(learning_rate=0.0001, decay = lr)"
   ]
  },
  {
   "cell_type": "markdown",
   "id": "754791ab",
   "metadata": {},
   "source": [
    "#### Create Localization loss and Classification loss"
   ]
  },
  {
   "cell_type": "code",
   "execution_count": 202,
   "id": "2a140314",
   "metadata": {},
   "outputs": [],
   "source": [
    "def localization_loss(y_true, yhat):            \n",
    "    delta_coord = tf.reduce_sum(tf.square(y_true[:,:2] - yhat[:,:2]))\n",
    "                  \n",
    "    h_true = y_true[:,3] - y_true[:,1] \n",
    "    w_true = y_true[:,2] - y_true[:,0] \n",
    "\n",
    "    h_pred = yhat[:,3] - yhat[:,1] \n",
    "    w_pred = yhat[:,2] - yhat[:,0] \n",
    "    \n",
    "    delta_size = tf.reduce_sum(tf.square(w_true - w_pred) + tf.square(h_true-h_pred))\n",
    "    \n",
    "    return delta_coord + delta_size"
   ]
  },
  {
   "cell_type": "code",
   "execution_count": 204,
   "id": "ba6633e6",
   "metadata": {},
   "outputs": [],
   "source": [
    "# Classification loss\n",
    "classloss = tf.keras.losses.BinaryCrossentropy()\n",
    "\n",
    "# Regression loss\n",
    "regressloss = localization_loss"
   ]
  },
  {
   "cell_type": "markdown",
   "id": "03c6bcc4",
   "metadata": {},
   "source": [
    "## Train our Neural Network"
   ]
  },
  {
   "cell_type": "markdown",
   "id": "cd59a78e",
   "metadata": {},
   "source": [
    "* Create Custom Model Class"
   ]
  },
  {
   "cell_type": "code",
   "execution_count": 209,
   "id": "1a25bdcd",
   "metadata": {},
   "outputs": [],
   "source": [
    "class FaceTracker(Model): \n",
    "    def __init__(self, eyetracker,  **kwargs): \n",
    "        super().__init__(**kwargs)\n",
    "        self.model = eyetracker\n",
    "\n",
    "    def compile(self, opt, classloss, localizationloss, **kwargs):\n",
    "        super().compile(**kwargs)\n",
    "        self.closs = classloss\n",
    "        self.lloss = localizationloss\n",
    "        self.opt = opt\n",
    "    \n",
    "    def train_step(self, batch, **kwargs): \n",
    "        \n",
    "        X, y = batch\n",
    "        \n",
    "        with tf.GradientTape() as tape: \n",
    "            classes, coords = self.model(X, training=True)\n",
    "            \n",
    "            batch_classloss = self.closs(y[0], classes)\n",
    "            batch_localizationloss = self.lloss(tf.cast(y[1], tf.float32), coords)\n",
    "            \n",
    "            total_loss = batch_localizationloss+0.5*batch_classloss\n",
    "            \n",
    "            grad = tape.gradient(total_loss, self.model.trainable_variables)\n",
    "        \n",
    "        opt.apply_gradients(zip(grad, self.model.trainable_variables))\n",
    "        \n",
    "        return {\"total_loss\":total_loss, \"class_loss\":batch_classloss, \"regress_loss\":batch_localizationloss}\n",
    "    \n",
    "    def test_step(self, batch, **kwargs): \n",
    "        X, y = batch\n",
    "        \n",
    "        classes, coords = self.model(X, training=False)\n",
    "        \n",
    "        batch_classloss = self.closs(y[0], classes)\n",
    "        batch_localizationloss = self.lloss(tf.cast(y[1], tf.float32), coords)\n",
    "        total_loss = batch_localizationloss+0.5*batch_classloss\n",
    "        \n",
    "        return {\"total_loss\":total_loss, \"class_loss\":batch_classloss, \"regress_loss\":batch_localizationloss}\n",
    "        \n",
    "    def call(self, X, **kwargs): \n",
    "        return self.model(X, **kwargs)"
   ]
  },
  {
   "cell_type": "code",
   "execution_count": 210,
   "id": "45c2f24b",
   "metadata": {},
   "outputs": [],
   "source": [
    "model = FaceTracker(facetracker)"
   ]
  },
  {
   "cell_type": "code",
   "execution_count": 236,
   "id": "1c81f6d6",
   "metadata": {},
   "outputs": [],
   "source": [
    "model.compile(opt,classloss, regressloss)"
   ]
  },
  {
   "cell_type": "markdown",
   "id": "58f1deb3",
   "metadata": {},
   "source": [
    "### Train the model"
   ]
  },
  {
   "cell_type": "code",
   "execution_count": 212,
   "id": "090f7620",
   "metadata": {},
   "outputs": [],
   "source": [
    "logdir='logs'"
   ]
  },
  {
   "cell_type": "code",
   "execution_count": 213,
   "id": "8b2043fc",
   "metadata": {},
   "outputs": [],
   "source": [
    "tensorboard_callback = tf.keras.callbacks.TensorBoard(log_dir=logdir)"
   ]
  },
  {
   "cell_type": "code",
   "execution_count": 214,
   "id": "8de4c6a1",
   "metadata": {},
   "outputs": [
    {
     "name": "stdout",
     "output_type": "stream",
     "text": [
      "Epoch 1/10\n",
      "148/148 [==============================] - 194s 1s/step - total_loss: 0.4110 - class_loss: 0.0794 - regress_loss: 0.3713 - val_total_loss: 0.3098 - val_class_loss: 0.1021 - val_regress_loss: 0.2587\n",
      "Epoch 2/10\n",
      "148/148 [==============================] - 218s 1s/step - total_loss: 0.1015 - class_loss: 0.0151 - regress_loss: 0.0939 - val_total_loss: 0.0429 - val_class_loss: 1.7970e-04 - val_regress_loss: 0.0428\n",
      "Epoch 3/10\n",
      "148/148 [==============================] - 212s 1s/step - total_loss: 0.0666 - class_loss: 0.0117 - regress_loss: 0.0608 - val_total_loss: 0.0335 - val_class_loss: 1.8383e-04 - val_regress_loss: 0.0334\n",
      "Epoch 4/10\n",
      "148/148 [==============================] - 202s 1s/step - total_loss: 0.0272 - class_loss: 0.0015 - regress_loss: 0.0264 - val_total_loss: 0.0414 - val_class_loss: 0.0035 - val_regress_loss: 0.0396\n",
      "Epoch 5/10\n",
      "148/148 [==============================] - 201s 1s/step - total_loss: 0.0146 - class_loss: 6.3134e-04 - regress_loss: 0.0142 - val_total_loss: 0.0179 - val_class_loss: 0.0014 - val_regress_loss: 0.0172\n",
      "Epoch 6/10\n",
      "148/148 [==============================] - 200s 1s/step - total_loss: 0.0092 - class_loss: 3.1787e-04 - regress_loss: 0.0090 - val_total_loss: 0.0180 - val_class_loss: 0.0011 - val_regress_loss: 0.0174\n",
      "Epoch 7/10\n",
      "148/148 [==============================] - 200s 1s/step - total_loss: 0.0075 - class_loss: 2.3819e-04 - regress_loss: 0.0074 - val_total_loss: 0.0141 - val_class_loss: 7.3091e-04 - val_regress_loss: 0.0137\n",
      "Epoch 8/10\n",
      "148/148 [==============================] - 201s 1s/step - total_loss: 0.0058 - class_loss: 1.5768e-04 - regress_loss: 0.0057 - val_total_loss: 0.0176 - val_class_loss: 0.0013 - val_regress_loss: 0.0170\n",
      "Epoch 9/10\n",
      "148/148 [==============================] - 195s 1s/step - total_loss: 0.0049 - class_loss: 1.1758e-04 - regress_loss: 0.0049 - val_total_loss: 0.0127 - val_class_loss: 6.5789e-06 - val_regress_loss: 0.0127\n",
      "Epoch 10/10\n",
      "148/148 [==============================] - 201s 1s/step - total_loss: 0.0049 - class_loss: 1.0700e-04 - regress_loss: 0.0049 - val_total_loss: 0.0116 - val_class_loss: 8.2777e-06 - val_regress_loss: 0.0116\n"
     ]
    }
   ],
   "source": [
    "model_hist = model.fit(train, epochs=10, validation_data=val, callbacks=[tensorboard_callback])"
   ]
  },
  {
   "cell_type": "markdown",
   "id": "4607bd49",
   "metadata": {},
   "source": [
    "### Plot the losses"
   ]
  },
  {
   "cell_type": "code",
   "execution_count": 219,
   "id": "58010704",
   "metadata": {},
   "outputs": [
    {
     "data": {
      "image/png": "[encoded data removed]",
      "text/plain": [
       "<Figure size 1440x360 with 3 Axes>"
      ]
     },
     "metadata": {
      "needs_background": "light"
     },
     "output_type": "display_data"
    }
   ],
   "source": [
    "fig, ax = plt.subplots(ncols=3, figsize=(20,5))\n",
    "\n",
    "ax[0].plot(model_hist.history['total_loss'], color='teal', label='loss')\n",
    "ax[0].plot(model_hist.history['val_total_loss'], color='orange', label='val loss')\n",
    "ax[0].title.set_text('Loss')\n",
    "ax[0].legend()\n",
    "\n",
    "ax[1].plot(model_hist.history['class_loss'], color='teal', label='class loss')\n",
    "ax[1].plot(model_hist.history['val_class_loss'], color='orange', label='val class loss')\n",
    "ax[1].title.set_text('Classification Loss')\n",
    "ax[1].legend()\n",
    "\n",
    "ax[2].plot(model_hist.history['regress_loss'], color='teal', label='regress loss')\n",
    "ax[2].plot(model_hist.history['val_regress_loss'], color='orange', label='val regress loss')\n",
    "ax[2].title.set_text('Regression Loss')\n",
    "ax[2].legend()\n",
    "\n",
    "plt.show()"
   ]
  },
  {
   "cell_type": "code",
   "execution_count": null,
   "id": "5bbaa475",
   "metadata": {},
   "outputs": [],
   "source": [
    "model_hist.evaluate()"
   ]
  },
  {
   "cell_type": "markdown",
   "id": "2581b0ec",
   "metadata": {},
   "source": [
    "# Make Predictions"
   ]
  },
  {
   "cell_type": "code",
   "execution_count": 230,
   "id": "0c4d68b0",
   "metadata": {},
   "outputs": [],
   "source": [
    "test_data = test.as_numpy_iterator()\n",
    "test_sample = test_data.next()"
   ]
  },
  {
   "cell_type": "code",
   "execution_count": 231,
   "id": "b911dc6e",
   "metadata": {},
   "outputs": [],
   "source": [
    "y_pred = facetracker.predict(test_sample[0])"
   ]
  },
  {
   "cell_type": "code",
   "execution_count": null,
   "id": "254b70b5",
   "metadata": {},
   "outputs": [],
   "source": [
    "fig, ax = plt.subplots(ncols=4, figsize=(18,18))\n",
    "for idx in range(4):\n",
    "    sample_image = test_sample[0][idx]\n",
    "    sample_coords = y_pred[1][idx]\n",
    "    \n",
    "    if y_pred[0][idx] > 0.9:\n",
    "        cv2.rectangle(sample_image,\n",
    "                      tuple(np.multiply(sample_coords[:2], [120,120]).astype(int)),\n",
    "                      tuple(np.multiply(sample_coords[2:], [120,120]).astype(int)),\n",
    "                      (255,0,0),\n",
    "                      2\n",
    "                     )\n",
    "        ax[idx].imshow(sample_image)"
   ]
  },
  {
   "cell_type": "markdown",
   "id": "0eeafe34",
   "metadata": {},
   "source": [
    "## Save the Model"
   ]
  },
  {
   "cell_type": "code",
   "execution_count": 233,
   "id": "8fd7ade2",
   "metadata": {},
   "outputs": [],
   "source": [
    "from tensorflow.keras.models import load_model"
   ]
  },
  {
   "cell_type": "code",
   "execution_count": 241,
   "id": "557a3875",
   "metadata": {},
   "outputs": [
    {
     "name": "stdout",
     "output_type": "stream",
     "text": [
      "WARNING:tensorflow:Compiled the loaded model, but the compiled metrics have yet to be built. `model.compile_metrics` will be empty until you train or evaluate the model.\n"
     ]
    }
   ],
   "source": [
    "facetracker.save('facetracker.h5')"
   ]
  },
  {
   "cell_type": "code",
   "execution_count": 238,
   "id": "11d0001e",
   "metadata": {},
   "outputs": [
    {
     "name": "stdout",
     "output_type": "stream",
     "text": [
      "WARNING:tensorflow:No training configuration found in the save file, so the model was *not* compiled. Compile it manually.\n"
     ]
    }
   ],
   "source": [
    "facetracker = load_model('facetracker.h5')"
   ]
  },
  {
   "cell_type": "markdown",
   "id": "fdcc4e21",
   "metadata": {},
   "source": [
    "# Run "
   ]
  },
  {
   "cell_type": "code",
   "execution_count": null,
   "id": "504f8747",
   "metadata": {},
   "outputs": [],
   "source": [
    "cap = cv2.VideoCapture(0)\n",
    "while cap.isOpened():\n",
    "    _ , frame = cap.read()\n",
    "    frame = frame[50:500, 50:500,:]\n",
    "    \n",
    "    rgb = cv2.cvtColor(frame, cv2.COLOR_BGR2RGB)\n",
    "    resized = tf.image.resize(rgb, (120,120))\n",
    "    \n",
    "    yhat = facetracker.predict(np.expand_dims(resized/255,0))\n",
    "    sample_coords = yhat[1][0]\n",
    "    \n",
    "    if yhat[0] > 0.5: \n",
    "        # Controls the main rectangle\n",
    "        cv2.rectangle(frame, \n",
    "                      tuple(np.multiply(sample_coords[:2], [450,450]).astype(int)),\n",
    "                      tuple(np.multiply(sample_coords[2:], [450,450]).astype(int)), \n",
    "                            (255,0,0), 2)\n",
    "        # Controls the label rectangle\n",
    "        cv2.rectangle(frame, \n",
    "                      tuple(np.add(np.multiply(sample_coords[:2], [450,450]).astype(int), \n",
    "                                    [0,-30])),\n",
    "                      tuple(np.add(np.multiply(sample_coords[:2], [450,450]).astype(int),\n",
    "                                    [80,0])), \n",
    "                            (255,0,0), -1)\n",
    "        \n",
    "        # Controls the text rendered\n",
    "        cv2.putText(frame, 'face', tuple(np.add(np.multiply(sample_coords[:2], [450,450]).astype(int),\n",
    "                                               [0,-5])),\n",
    "                    cv2.FONT_HERSHEY_SIMPLEX, 1, (255,255,255), 2, cv2.LINE_AA)\n",
    "    \n",
    "    cv2.imshow('EyeTrack', frame)\n",
    "    if cv2.waitKey(1) & 0xFF == ord('q'):\n",
    "        break\n",
    "cap.release()\n",
    "cv2.destroyAllWindows()"
   ]
  },
  {
   "cell_type": "code",
   "execution_count": null,
   "id": "9190fa6e",
   "metadata": {},
   "outputs": [],
   "source": []
  },
  {
   "cell_type": "code",
   "execution_count": null,
   "id": "565ea9ba",
   "metadata": {},
   "outputs": [],
   "source": []
  }
 ],
 "metadata": {
  "kernelspec": {
   "display_name": "Python 3 (ipykernel)",
   "language": "python",
   "name": "python3"
  },
  "language_info": {
   "codemirror_mode": {
    "name": "ipython",
    "version": 3
   },
   "file_extension": ".py",
   "mimetype": "text/x-python",
   "name": "python",
   "nbconvert_exporter": "python",
   "pygments_lexer": "ipython3",
   "version": "3.9.7"
  }
 },
 "nbformat": 4,
 "nbformat_minor": 5
}
